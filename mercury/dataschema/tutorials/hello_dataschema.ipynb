{
 "cells": [
  {
   "cell_type": "markdown",
   "id": "475f1494-94c6-4a6d-bfc7-e4c72809b0be",
   "metadata": {},
   "source": [
    "# A simple hands-on mercury-dataschema"
   ]
  },
  {
   "cell_type": "code",
   "execution_count": null,
   "id": "e10b0892-b219-42aa-8d8b-21ceb77dcaa4",
   "metadata": {},
   "outputs": [],
   "source": [
    "from mercury.dataschema import DataSchema\n",
    "from mercury.dataschema.anonymize import Anonymize\n"
   ]
  },
  {
   "cell_type": "markdown",
   "id": "f4ccb99f-57ac-4360-85e3-c8a2ff9ea8dd",
   "metadata": {},
   "source": [
    "## Getting a dataset from seaborn examples\n",
    "\n",
    "We import seaborn just in case just to load the tips dataset to play with it.\n",
    "\n",
    "We pip install it first."
   ]
  },
  {
   "cell_type": "code",
   "execution_count": null,
   "id": "08e37205-414e-4871-a594-33aab0efee03",
   "metadata": {},
   "outputs": [],
   "source": [
    "!pip install seaborn"
   ]
  },
  {
   "cell_type": "code",
   "execution_count": null,
   "id": "3e83f082-4434-4994-9229-ea517b20968f",
   "metadata": {},
   "outputs": [],
   "source": [
    "import seaborn as sns\n"
   ]
  },
  {
   "cell_type": "markdown",
   "id": "ed45555b-a0ba-4d05-a42a-596efaa25d84",
   "metadata": {},
   "source": [
    "We change the types of the strings to string."
   ]
  },
  {
   "cell_type": "code",
   "execution_count": null,
   "id": "0e956955-4edc-4ca4-9944-e819fde35884",
   "metadata": {},
   "outputs": [],
   "source": [
    "tips = sns.load_dataset('tips')\n",
    "tips['sex'] = tips['sex'].astype(str)\n",
    "tips['smoker'] = tips['smoker'].astype(str)\n",
    "tips['day'] = tips['day'].astype(str)\n",
    "tips['time'] = tips['time'].astype(str)\n",
    "\n",
    "tips\n"
   ]
  },
  {
   "cell_type": "markdown",
   "id": "d1370edb-5fc7-4c09-a604-37c6f4b54cfe",
   "metadata": {},
   "source": [
    "## Automated type detection"
   ]
  },
  {
   "cell_type": "code",
   "execution_count": null,
   "id": "1e5279db-e38e-4331-b098-7f8514880122",
   "metadata": {},
   "outputs": [],
   "source": [
    "schema = DataSchema().generate(tips)"
   ]
  },
  {
   "cell_type": "markdown",
   "id": "b53ff5e4-31de-42eb-accc-29674a2af640",
   "metadata": {},
   "source": [
    "The method `.generate` generates for each of the columns an object of class Feature that allows abstracting its details\n",
    "and using it in the same way across types.\n",
    "\n",
    "This is how many mercury packages work.\n",
    "\n",
    "As you can see in the previous warning, it treats an integer variable as categorical because it has only two values. This behavior can be controlled \n",
    "\n",
    "  * [see documentation](https://bbva.github.io/mercury-dataschema/)"
   ]
  },
  {
   "cell_type": "code",
   "execution_count": null,
   "id": "0e50bfcd-a116-41e8-bcf2-0a6a7c99fb38",
   "metadata": {},
   "outputs": [],
   "source": [
    "schema.feats"
   ]
  },
  {
   "cell_type": "markdown",
   "id": "cdaaddc0-b022-422c-8865-82acca7e467d",
   "metadata": {},
   "source": [
    "## Anonymize example\n",
    "\n",
    "The pckage also includes an Anonymize class that supports multiple key management functions, controlable precision and secure cryptography."
   ]
  },
  {
   "cell_type": "code",
   "execution_count": null,
   "id": "151e4e70-0138-4bd5-9e86-415f46853a9f",
   "metadata": {},
   "outputs": [],
   "source": [
    "anon = Anonymize()"
   ]
  },
  {
   "cell_type": "code",
   "execution_count": null,
   "id": "ed9a1d2a-dcb6-460b-af3f-90638a0cc567",
   "metadata": {},
   "outputs": [],
   "source": [
    "anon.set_key('Mickey Mouse')"
   ]
  },
  {
   "cell_type": "code",
   "execution_count": null,
   "id": "26159c27-6e27-4185-aa40-207372c539c5",
   "metadata": {},
   "outputs": [],
   "source": [
    "anon.anonymize_list_any_type(list(tips['total_bill']))[0:10]"
   ]
  },
  {
   "cell_type": "markdown",
   "id": "413441db-580c-49c4-8864-fa452dda59b2",
   "metadata": {},
   "source": [
    "## Same example with shorter digest length\n",
    "\n",
    "We run the same example with 12 bit digest (2 base-64 digits)."
   ]
  },
  {
   "cell_type": "code",
   "execution_count": null,
   "id": "4e7bb476-cf2d-40d4-b9bb-b2c94cebe5e4",
   "metadata": {},
   "outputs": [],
   "source": [
    "anon = Anonymize(digest_bits = 12)"
   ]
  },
  {
   "cell_type": "code",
   "execution_count": null,
   "id": "388ccda3-e723-4dfe-b0ce-70a7c722aec0",
   "metadata": {},
   "outputs": [],
   "source": [
    "anon.set_key('Mickey Mouse')"
   ]
  },
  {
   "cell_type": "code",
   "execution_count": null,
   "id": "29a7aa87-dfda-4f5d-a5f4-b8809bd3ff54",
   "metadata": {},
   "outputs": [],
   "source": [
    "anon.anonymize_list_any_type(list(tips['total_bill']))[0:10]"
   ]
  },
  {
   "cell_type": "code",
   "execution_count": null,
   "id": "27f406f7-6e32-4b42-9089-79dce4484a26",
   "metadata": {},
   "outputs": [],
   "source": []
  }
 ],
 "metadata": {
  "kernelspec": {
   "display_name": "Python 3 (ipykernel)",
   "language": "python",
   "name": "python3"
  },
  "language_info": {
   "codemirror_mode": {
    "name": "ipython",
    "version": 3
   },
   "file_extension": ".py",
   "mimetype": "text/x-python",
   "name": "python",
   "nbconvert_exporter": "python",
   "pygments_lexer": "ipython3",
   "version": "3.13.0"
  }
 },
 "nbformat": 4,
 "nbformat_minor": 5
}
